{
 "cells": [
  {
   "cell_type": "markdown",
   "metadata": {},
   "source": [
    "# 5.\n",
    "\n",
    "Consider the model\n",
    "$$ y_j \\sim Binomial(n_j, \\theta_j) $$\n",
    "$$ \\theta_j = logit^{-1}(\\alpha + \\beta x_j) $$\n",
    "$$ \\alpha \\sim t_4(0, 2^2) $$\n",
    "$$ \\beta \\sim t_4(0, 1) $$\n",
    "\n",
    "Suppose J = 10, $x_j \\sim U(0, 1)$, and $n_j \\sim Poisson^+(5)$, i.e. > 0"
   ]
  },
  {
   "cell_type": "code",
   "execution_count": 1,
   "metadata": {},
   "outputs": [],
   "source": [
    "import numpy as np\n",
    "import scipy\n",
    "from math import factorial\n",
    "import seaborn as sns\n",
    "import matplotlib.pyplot as plt\n",
    "\n",
    "%matplotlib inline"
   ]
  },
  {
   "cell_type": "code",
   "execution_count": 2,
   "metadata": {},
   "outputs": [],
   "source": [
    "def inv_logit(x):\n",
    "    return 1 / (1 + np.exp(-x))"
   ]
  },
  {
   "cell_type": "markdown",
   "metadata": {},
   "source": [
    "## visualize the priors"
   ]
  },
  {
   "cell_type": "code",
   "execution_count": 3,
   "metadata": {},
   "outputs": [
    {
     "data": {
      "text/plain": [
       "<matplotlib.legend.Legend at 0x11398d278>"
      ]
     },
     "execution_count": 3,
     "metadata": {},
     "output_type": "execute_result"
    },
    {
     "data": {
      "image/png": "[encoded data removed]",
      "text/plain": [
       "<Figure size 432x288 with 1 Axes>"
      ]
     },
     "metadata": {
      "needs_background": "light"
     },
     "output_type": "display_data"
    }
   ],
   "source": [
    "x = np.linspace(-10, 10, num=500)\n",
    "plt.scatter(x=x, y=scipy.stats.t.pdf(x, df=4, scale=2), label=\"alpha\")\n",
    "plt.scatter(x=x, y=scipy.stats.t.pdf(x, df=4, scale=1), label=\"beta\")\n",
    "plt.title(\"priors\")\n",
    "plt.ylabel(\"density\")\n",
    "plt.legend()"
   ]
  },
  {
   "cell_type": "code",
   "execution_count": 4,
   "metadata": {},
   "outputs": [],
   "source": [
    "def simulate_data(J, lam, seed):\n",
    "    if seed:\n",
    "        np.random.seed(seed)\n",
    "    alpha = scipy.stats.t.rvs(df=4, scale=2, size=1)\n",
    "    beta = scipy.stats.t.rvs(df=4, size=1)\n",
    "    x = np.random.uniform(size=J)\n",
    "    theta = inv_logit(alpha + beta * x)\n",
    "    n = np.random.poisson(lam=lam, size=J)\n",
    "    while np.min(n) <= 0:\n",
    "        n[np.argmin(n)] = np.random.poisson(lam=lam, size=1)\n",
    "    y = [np.random.binomial(n[i], theta[i]) for i in range(J)]\n",
    "    print(\"alpha=%f, beta=%f\" % (alpha, beta))\n",
    "    return x, y, n"
   ]
  },
  {
   "cell_type": "code",
   "execution_count": 5,
   "metadata": {},
   "outputs": [
    {
     "name": "stdout",
     "output_type": "stream",
     "text": [
      "alpha=0.065686, beta=-0.246490\n"
     ]
    },
    {
     "data": {
      "text/plain": [
       "<matplotlib.collections.PathCollection at 0x115aae470>"
      ]
     },
     "execution_count": 5,
     "metadata": {},
     "output_type": "execute_result"
    },
    {
     "data": {
      "image/png": "[encoded data removed]",
      "text/plain": [
       "<Figure size 432x288 with 1 Axes>"
      ]
     },
     "metadata": {
      "needs_background": "light"
     },
     "output_type": "display_data"
    }
   ],
   "source": [
    "LAMBDA = 5\n",
    "X, Y, N = simulate_data(J=10, lam=LAMBDA, seed=930)\n",
    "plt.scatter(X, Y / N)"
   ]
  },
  {
   "cell_type": "markdown",
   "metadata": {},
   "source": [
    "(b) Use rejection sampling to get 1000 independent posterior draws from $(\\alpha, \\beta)$\n",
    "\n",
    "* the posterior $f(\\alpha, \\beta | y, n) \\propto f(y, n | \\alpha, \\beta) f(\\alpha) f(\\beta)$ using independence of priors\n",
    "\n",
    "* the likelihood for one observation is \n",
    "$$ f(y, n | \\alpha, \\beta) = f(y | n, \\alpha, \\beta) f(n | \\alpha, \\beta)$$\n",
    "$$ f(y, n | \\alpha, \\beta) = p^y (1-p)^{n-y} {n \\choose y} f(n)$$\n",
    "* Since $n$ is nonnegative, $$f(n) = \\frac{5^n}{n! (e^5 - 1)}$$\n",
    "* $p$ depends on $\\alpha, \\beta$"
   ]
  },
  {
   "cell_type": "code",
   "execution_count": 6,
   "metadata": {},
   "outputs": [],
   "source": [
    "# loglikelihood of data, given parameters\n",
    "def loglikelihood(alpha, beta):\n",
    "    llh = 0\n",
    "    p = inv_logit(alpha + beta * X)\n",
    "    # binomial part\n",
    "    llh += (Y * np.log(p) + (N - Y) * np.log(1 - p) + np.log(scipy.special.comb(N, Y))).sum()\n",
    "    # probability of n\n",
    "    llh += (N * np.log(LAMBDA) - np.log(scipy.special.factorial(N)) - np.log(np.exp(LAMBDA) - 1)).sum()\n",
    "    return llh\n",
    "\n",
    "def target_log_density(alpha, beta):\n",
    "    log_density_alpha = scipy.stats.t.logpdf(alpha, df=4, scale=2)\n",
    "    log_density_beta = scipy.stats.t.logpdf(beta, df=4, scale=1)\n",
    "    return loglikelihood(alpha, beta) + log_density_alpha + log_density_beta\n",
    "\n",
    "assert isinstance(target_log_density(0, 0), float)"
   ]
  },
  {
   "cell_type": "code",
   "execution_count": 7,
   "metadata": {},
   "outputs": [
    {
     "data": {
      "text/plain": [
       "array([ 0.05250586, -1.44227084])"
      ]
     },
     "execution_count": 7,
     "metadata": {},
     "output_type": "execute_result"
    }
   ],
   "source": [
    "# for large LAMBDA and J, the MLE solution should be pretty close to the true solution\n",
    "# this is just a check that I've implemented the above functions correctly\n",
    "def neg_loglikelihood(params):\n",
    "    return -1 * loglikelihood(*params)\n",
    "\n",
    "mle = scipy.optimize.minimize(neg_loglikelihood, np.random.normal(size=2))\n",
    "mle.x"
   ]
  },
  {
   "cell_type": "code",
   "execution_count": 8,
   "metadata": {},
   "outputs": [
    {
     "data": {
      "text/plain": [
       "      fun: 36.69320390516619\n",
       " hess_inv: array([[ 0.17333962, -0.26415418],\n",
       "       [-0.26415418,  0.85837772]])\n",
       "      jac: array([0.00000000e+00, 4.76837158e-07])\n",
       "  message: 'Optimization terminated successfully.'\n",
       "     nfev: 28\n",
       "      nit: 6\n",
       "     njev: 7\n",
       "   status: 0\n",
       "  success: True\n",
       "        x: array([ 0.05250586, -1.44227084])"
      ]
     },
     "execution_count": 8,
     "metadata": {},
     "output_type": "execute_result"
    }
   ],
   "source": [
    "H = np.linalg.inv(mle.hess_inv)\n",
    "mle"
   ]
  },
  {
   "cell_type": "markdown",
   "metadata": {},
   "source": [
    "### rejection sampling"
   ]
  },
  {
   "cell_type": "markdown",
   "metadata": {},
   "source": [
    "Use a bivariate normal distribution as our approximating density, $g(\\theta)$, to the target density, $p(\\theta | y)$, but using the mle mean and variance"
   ]
  },
  {
   "cell_type": "code",
   "execution_count": 9,
   "metadata": {},
   "outputs": [],
   "source": [
    "def approx_log_density(alpha, beta):\n",
    "    \"\"\" This is a true density\"\"\"\n",
    "    return scipy.stats.multivariate_normal.logpdf([alpha, beta],\n",
    "                                                  mean=mle.x,\n",
    "                                                  cov=H)"
   ]
  },
  {
   "cell_type": "code",
   "execution_count": 10,
   "metadata": {},
   "outputs": [
    {
     "data": {
      "text/plain": [
       "      fun: 36.41606184466714\n",
       " hess_inv: array([[ 0.1756934 , -0.24540869],\n",
       "       [-0.24540869,  0.67663704]])\n",
       "      jac: array([-4.76837158e-07, -4.76837158e-07])\n",
       "  message: 'Optimization terminated successfully.'\n",
       "     nfev: 40\n",
       "      nit: 8\n",
       "     njev: 10\n",
       "   status: 0\n",
       "  success: True\n",
       "        x: array([-0.37126618, -0.21959417])"
      ]
     },
     "execution_count": 10,
     "metadata": {},
     "output_type": "execute_result"
    }
   ],
   "source": [
    "# find M, an upper bound on the ratio of target / approximate density\n",
    "def minimize_me(params):\n",
    "    return approx_log_density(*params) - target_log_density(*params)\n",
    "res = scipy.optimize.minimize(minimize_me, np.random.normal(size=2))\n",
    "res"
   ]
  },
  {
   "cell_type": "code",
   "execution_count": 11,
   "metadata": {},
   "outputs": [
    {
     "data": {
      "text/plain": [
       "-36.41606184466714"
      ]
     },
     "execution_count": 11,
     "metadata": {},
     "output_type": "execute_result"
    }
   ],
   "source": [
    "# this seems to scale linearly with J\n",
    "# also: for other values of (sampled) alpha, beta, this was VERY large\n",
    "log_M = -res.fun\n",
    "log_M"
   ]
  },
  {
   "cell_type": "code",
   "execution_count": 12,
   "metadata": {},
   "outputs": [],
   "source": [
    "def rejection_sample(desired_samples: int):\n",
    "    n_rejected = 0\n",
    "    samples = []\n",
    "    while len(samples) < desired_samples:\n",
    "        sample = scipy.stats.multivariate_normal.rvs(mean=mle.x, cov=H, size=1)\n",
    "        log_p = target_log_density(*sample) - log_M - approx_log_density(*sample)\n",
    "        if np.log(np.random.uniform()) < log_p:\n",
    "            samples.append(sample)\n",
    "        else:\n",
    "            n_rejected += 1\n",
    "    print(\"acceptance rate was %f\" %  (len(samples) / (len(samples) + n_rejected)))\n",
    "    return np.array(samples)"
   ]
  },
  {
   "cell_type": "code",
   "execution_count": 13,
   "metadata": {},
   "outputs": [
    {
     "name": "stdout",
     "output_type": "stream",
     "text": [
      "acceptance rate was 0.039628\n",
      "CPU times: user 18.4 s, sys: 80.4 ms, total: 18.5 s\n",
      "Wall time: 18.4 s\n"
     ]
    }
   ],
   "source": [
    "%%time\n",
    "rej_samples = rejection_sample(desired_samples=1000)"
   ]
  },
  {
   "cell_type": "code",
   "execution_count": 14,
   "metadata": {},
   "outputs": [
    {
     "name": "stderr",
     "output_type": "stream",
     "text": [
      "/Users/timothysweetser/.pyenv/versions/3.6.6/envs/work3/lib/python3.6/site-packages/scipy/stats/stats.py:1713: FutureWarning: Using a non-tuple sequence for multidimensional indexing is deprecated; use `arr[tuple(seq)]` instead of `arr[seq]`. In the future this will be interpreted as an array index, `arr[np.array(seq)]`, which will result either in an error or a different result.\n",
      "  return np.add.reduce(sorted[indexer] * weights, axis=axis) / sumval\n"
     ]
    },
    {
     "data": {
      "text/plain": [
       "Text(0.5, 0.98, 'Posterior, Rejection Sampling')"
      ]
     },
     "execution_count": 14,
     "metadata": {},
     "output_type": "execute_result"
    },
    {
     "data": {
      "image/png": "[encoded data removed]",
      "text/plain": [
       "<Figure size 432x288 with 2 Axes>"
      ]
     },
     "metadata": {
      "needs_background": "light"
     },
     "output_type": "display_data"
    }
   ],
   "source": [
    "alpha=0.065686\n",
    "beta=-0.246490\n",
    "\n",
    "fig, axs = plt.subplots(1,  2, sharex=False)\n",
    "sns.distplot(rej_samples[:, 0], kde=False, ax=axs[0])\n",
    "axs[0].set_xlabel(\"alpha\")\n",
    "axs[0].axvline(x=alpha)\n",
    "\n",
    "sns.distplot(rej_samples[:, 1], kde=False, ax=axs[1])\n",
    "axs[1].set_xlabel(\"beta\")\n",
    "axs[1].axvline(x=beta)\n",
    "fig.suptitle(\"Posterior, Rejection Sampling\")"
   ]
  },
  {
   "cell_type": "markdown",
   "metadata": {},
   "source": [
    "# (c) Approximate the posterior density by a normal centered at the posterior mode with covariance matrix fit to the curvature at that mode"
   ]
  },
  {
   "cell_type": "code",
   "execution_count": 15,
   "metadata": {},
   "outputs": [
    {
     "data": {
      "text/plain": [
       "      fun: 39.967611771276275\n",
       " hess_inv: array([[ 0.1344616 , -0.15143763],\n",
       "       [-0.15143763,  0.47302894]])\n",
       "      jac: array([-3.81469727e-06, -4.76837158e-06])\n",
       "  message: 'Optimization terminated successfully.'\n",
       "     nfev: 32\n",
       "      nit: 6\n",
       "     njev: 8\n",
       "   status: 0\n",
       "  success: True\n",
       "        x: array([-0.15794549, -0.76707005])"
      ]
     },
     "execution_count": 15,
     "metadata": {},
     "output_type": "execute_result"
    }
   ],
   "source": [
    "def neg_target_log_density(params):\n",
    "    return -1 * target_log_density(*params)\n",
    "\n",
    "map_estimate = scipy.optimize.minimize(neg_target_log_density, x0=mle.x)\n",
    "map_estimate\n"
   ]
  },
  {
   "cell_type": "markdown",
   "metadata": {},
   "source": [
    "This should be smaller than the mle estimate, owing to the zero-centered priors"
   ]
  },
  {
   "cell_type": "code",
   "execution_count": 16,
   "metadata": {},
   "outputs": [],
   "source": [
    "assert np.abs(res.x[1]) < np.abs(mle.x[1])\n",
    "#assert np.abs(res.x[0]) < np.abs(mle.x[0]) #why does this one fail?"
   ]
  },
  {
   "cell_type": "code",
   "execution_count": 17,
   "metadata": {},
   "outputs": [],
   "source": [
    "t = 20 * (-1/2 + np.random.uniform(size=1000))\n",
    "# joint density\n",
    "#normal_density = scipy.stats.multivariate_normal.pdf(x, mean=res.x, cov=np.linalg.inv(res.hess_inv))\n",
    "cov = np.linalg.inv(res.hess_inv)\n",
    "# marginal densities\n",
    "normal_density = {\n",
    "    'alpha': scipy.stats.norm.pdf(t, loc=res.x[0], scale=np.sqrt(cov[0, 0])),\n",
    "    'beta': scipy.stats.norm.pdf(t, loc=res.x[1], scale=np.sqrt(cov[1, 1])),                                   \n",
    "}\n"
   ]
  },
  {
   "cell_type": "code",
   "execution_count": 18,
   "metadata": {},
   "outputs": [
    {
     "data": {
      "text/plain": [
       "Text(0.5, 0.98, 'Normal Approximation to Posterior')"
      ]
     },
     "execution_count": 18,
     "metadata": {},
     "output_type": "execute_result"
    },
    {
     "data": {
      "image/png": "[encoded data removed]",
      "text/plain": [
       "<Figure size 432x288 with 2 Axes>"
      ]
     },
     "metadata": {
      "needs_background": "light"
     },
     "output_type": "display_data"
    }
   ],
   "source": [
    "fig, axs = plt.subplots(1,  2, sharex=False)\n",
    "axs[0].scatter(t, normal_density['alpha'])\n",
    "axs[0].set_xlabel(\"alpha\")\n",
    "axs[0].axvline(x=alpha)\n",
    "\n",
    "axs[1].scatter(t, normal_density['beta'])\n",
    "axs[1].set_xlabel(\"beta\")\n",
    "axs[1].axvline(x=beta)\n",
    "fig.suptitle(\"Normal Approximation to Posterior\")"
   ]
  },
  {
   "cell_type": "markdown",
   "metadata": {},
   "source": [
    "# (d) Importance sampling"
   ]
  },
  {
   "cell_type": "code",
   "execution_count": 19,
   "metadata": {},
   "outputs": [],
   "source": [
    "# https://github.com/statsmodels/statsmodels/blob/master/statsmodels/sandbox/distributions/multivariate.py\n",
    "def multivariate_t_rvs(m, S, df=np.inf, n=1):\n",
    "    '''generate random variables of multivariate t distribution\n",
    "    Parameters\n",
    "    ----------\n",
    "    m : array_like\n",
    "        mean of random variable, length determines dimension of random variable\n",
    "    S : array_like\n",
    "        square array of covariance  matrix\n",
    "    df : int or float\n",
    "        degrees of freedom\n",
    "    n : int\n",
    "        number of observations, return random array will be (n, len(m))\n",
    "    Returns\n",
    "    -------\n",
    "    rvs : ndarray, (n, len(m))\n",
    "        each row is an independent draw of a multivariate t distributed\n",
    "        random variable\n",
    "    '''\n",
    "    m = np.asarray(m)\n",
    "    d = len(m)\n",
    "    if df == np.inf:\n",
    "        x = 1.\n",
    "    else:\n",
    "        x = np.random.chisquare(df, n)/df\n",
    "    z = np.random.multivariate_normal(np.zeros(d),S,(n,))\n",
    "    return m + z/np.sqrt(x)[:,None] # same output format as random.multivariate_normal"
   ]
  },
  {
   "cell_type": "code",
   "execution_count": 20,
   "metadata": {},
   "outputs": [
    {
     "name": "stderr",
     "output_type": "stream",
     "text": [
      "/Users/timothysweetser/.pyenv/versions/3.6.6/envs/work3/lib/python3.6/site-packages/ipykernel_launcher.py:6: RuntimeWarning: divide by zero encountered in log\n",
      "  \n"
     ]
    }
   ],
   "source": [
    "samples = multivariate_t_rvs(m=map_estimate.x, S=np.linalg.inv(map_estimate.hess_inv),\n",
    "                             df=4, n=1000)\n",
    "# make into a list\n",
    "samples = [tuple(samples[i, :]) for i in range(1000)]\n",
    "importance_weights = np.exp([target_log_density(*s) - approx_log_density(*s)\n",
    "                            for s in samples])"
   ]
  },
  {
   "cell_type": "code",
   "execution_count": 21,
   "metadata": {},
   "outputs": [
    {
     "name": "stderr",
     "output_type": "stream",
     "text": [
      "/Users/timothysweetser/.pyenv/versions/3.6.6/envs/work3/lib/python3.6/site-packages/ipykernel_launcher.py:6: RuntimeWarning: divide by zero encountered in log\n",
      "  \n",
      "/Users/timothysweetser/.pyenv/versions/3.6.6/envs/work3/lib/python3.6/site-packages/scipy/stats/stats.py:1713: FutureWarning: Using a non-tuple sequence for multidimensional indexing is deprecated; use `arr[tuple(seq)]` instead of `arr[seq]`. In the future this will be interpreted as an array index, `arr[np.array(seq)]`, which will result either in an error or a different result.\n",
      "  return np.add.reduce(sorted[indexer] * weights, axis=axis) / sumval\n"
     ]
    },
    {
     "data": {
      "text/plain": [
       "Text(0.5, 0.98, 'Should be constant')"
      ]
     },
     "execution_count": 21,
     "metadata": {},
     "output_type": "execute_result"
    },
    {
     "data": {
      "image/png": "[encoded data removed]",
      "text/plain": [
       "<Figure size 432x288 with 2 Axes>"
      ]
     },
     "metadata": {
      "needs_background": "light"
     },
     "output_type": "display_data"
    }
   ],
   "source": [
    "# this quantity should be roughly constant, if importance sampling is to work well\n",
    "ratios = {\n",
    "    'alpha': np.array([s[0] for s in samples]) * \\\n",
    "    np.exp([target_log_density(*s) for s in samples]) / \\\n",
    "    np.exp([approx_log_density(*s) for s in samples]),\n",
    "    'beta': np.array([s[1] for s in samples]) * \\\n",
    "    np.exp([target_log_density(*s) for s in samples]) / \\\n",
    "    np.exp([approx_log_density(*s) for s in samples])\n",
    "}\n",
    "\n",
    "fig, axs = plt.subplots(1,  2, sharex=False)\n",
    "sns.distplot(ratios['alpha'], kde=True, ax=axs[0])\n",
    "axs[0].set_xlabel(\"alpha\")\n",
    "axs[0].axvline(x=alpha)\n",
    "\n",
    "sns.distplot(ratios['beta'], kde=True, ax=axs[1])\n",
    "axs[1].set_xlabel(\"beta\")\n",
    "axs[1].axvline(x=beta)\n",
    "fig.suptitle(\"Should be constant\")"
   ]
  },
  {
   "cell_type": "code",
   "execution_count": 22,
   "metadata": {},
   "outputs": [
    {
     "data": {
      "text/plain": [
       "(-0.27916457540367945, -0.5275266195567332)"
      ]
     },
     "execution_count": 22,
     "metadata": {},
     "output_type": "execute_result"
    }
   ],
   "source": [
    "E_alpha = np.inner(np.array([s[0] for s in samples]), importance_weights) / importance_weights.sum()\n",
    "E_beta = np.inner(np.array([s[1] for s in samples]), importance_weights) / importance_weights.sum()\n",
    "E_alpha, E_beta"
   ]
  },
  {
   "cell_type": "code",
   "execution_count": 23,
   "metadata": {},
   "outputs": [
    {
     "data": {
      "text/plain": [
       "(0.065686, -0.24649)"
      ]
     },
     "execution_count": 23,
     "metadata": {},
     "output_type": "execute_result"
    }
   ],
   "source": [
    "alpha, beta"
   ]
  },
  {
   "cell_type": "code",
   "execution_count": 24,
   "metadata": {},
   "outputs": [
    {
     "data": {
      "text/plain": [
       "80.57123653621905"
      ]
     },
     "execution_count": 24,
     "metadata": {},
     "output_type": "execute_result"
    }
   ],
   "source": [
    "# effective sample size is much smaller than our actual number of samples\n",
    "1 / np.sum((importance_weights / importance_weights.sum())**2)"
   ]
  },
  {
   "cell_type": "markdown",
   "metadata": {},
   "source": [
    "# fit this model using PyMC3 for comparison"
   ]
  },
  {
   "cell_type": "code",
   "execution_count": 25,
   "metadata": {},
   "outputs": [],
   "source": [
    "import pymc3 as pm"
   ]
  },
  {
   "cell_type": "code",
   "execution_count": 26,
   "metadata": {},
   "outputs": [],
   "source": [
    "J = 10\n",
    "\n",
    "with pm.Model() as model:\n",
    "    a = pm.StudentT('a', nu=4, mu=0, sd=2)\n",
    "    b = pm.StudentT('b', nu=4, mu=0, sd=1)\n",
    "    \n",
    "    p = 1 / (1 + pm.math.exp(a + b * X))\n",
    "    y = pm.Binomial('y', n=N, p=p, observed=Y)"
   ]
  },
  {
   "cell_type": "code",
   "execution_count": 27,
   "metadata": {},
   "outputs": [
    {
     "name": "stderr",
     "output_type": "stream",
     "text": [
      "Auto-assigning NUTS sampler...\n",
      "Initializing NUTS using jitter+adapt_diag...\n",
      "Multiprocess sampling (4 chains in 4 jobs)\n",
      "NUTS: [b, a]\n",
      "Sampling 4 chains: 100%|██████████| 12000/12000 [00:03<00:00, 3351.07draws/s]\n",
      "The acceptance probability does not match the target. It is 0.8952223297053504, but should be close to 0.8. Try to increase the number of tuning steps.\n"
     ]
    }
   ],
   "source": [
    "with model:\n",
    "    pm_samples = pm.sample(draws=2000, chains=4, cores=4, tune=1000)"
   ]
  },
  {
   "cell_type": "code",
   "execution_count": 28,
   "metadata": {},
   "outputs": [
    {
     "data": {
      "text/plain": [
       "array([[<matplotlib.axes._subplots.AxesSubplot object at 0x118d298d0>,\n",
       "        <matplotlib.axes._subplots.AxesSubplot object at 0x118d39908>],\n",
       "       [<matplotlib.axes._subplots.AxesSubplot object at 0x118d5bb38>,\n",
       "        <matplotlib.axes._subplots.AxesSubplot object at 0x118d81d68>]],\n",
       "      dtype=object)"
      ]
     },
     "execution_count": 28,
     "metadata": {},
     "output_type": "execute_result"
    },
    {
     "data": {
      "image/png": "[encoded data removed]",
      "text/plain": [
       "<Figure size 864x288 with 4 Axes>"
      ]
     },
     "metadata": {
      "needs_background": "light"
     },
     "output_type": "display_data"
    }
   ],
   "source": [
    "pm.traceplot(pm_samples)"
   ]
  },
  {
   "cell_type": "code",
   "execution_count": 30,
   "metadata": {},
   "outputs": [
    {
     "data": {
      "text/plain": [
       "0.1363808045275482"
      ]
     },
     "execution_count": 30,
     "metadata": {},
     "output_type": "execute_result"
    }
   ],
   "source": [
    "pm_samples.get_values('a').mean()"
   ]
  },
  {
   "cell_type": "code",
   "execution_count": 31,
   "metadata": {},
   "outputs": [
    {
     "data": {
      "text/plain": [
       "0.8834539424257732"
      ]
     },
     "execution_count": 31,
     "metadata": {},
     "output_type": "execute_result"
    }
   ],
   "source": [
    "pm_samples.get_values('b').mean()"
   ]
  },
  {
   "cell_type": "code",
   "execution_count": 32,
   "metadata": {},
   "outputs": [
    {
     "data": {
      "text/plain": [
       "(0.065686, -0.24649)"
      ]
     },
     "execution_count": 32,
     "metadata": {},
     "output_type": "execute_result"
    }
   ],
   "source": [
    "alpha, beta"
   ]
  },
  {
   "cell_type": "markdown",
   "metadata": {},
   "source": [
    "# another approach: logistic regression"
   ]
  },
  {
   "cell_type": "code",
   "execution_count": 37,
   "metadata": {},
   "outputs": [],
   "source": [
    "import statsmodels.formula.api as smf\n",
    "import pandas as pd"
   ]
  },
  {
   "cell_type": "code",
   "execution_count": 48,
   "metadata": {},
   "outputs": [
    {
     "data": {
      "text/html": [
       "<div>\n",
       "<style scoped>\n",
       "    .dataframe tbody tr th:only-of-type {\n",
       "        vertical-align: middle;\n",
       "    }\n",
       "\n",
       "    .dataframe tbody tr th {\n",
       "        vertical-align: top;\n",
       "    }\n",
       "\n",
       "    .dataframe thead th {\n",
       "        text-align: right;\n",
       "    }\n",
       "</style>\n",
       "<table border=\"1\" class=\"dataframe\">\n",
       "  <thead>\n",
       "    <tr style=\"text-align: right;\">\n",
       "      <th></th>\n",
       "      <th>x</th>\n",
       "      <th>y</th>\n",
       "    </tr>\n",
       "  </thead>\n",
       "  <tbody>\n",
       "    <tr>\n",
       "      <th>5</th>\n",
       "      <td>0.311063</td>\n",
       "      <td>0</td>\n",
       "    </tr>\n",
       "    <tr>\n",
       "      <th>7</th>\n",
       "      <td>0.150679</td>\n",
       "      <td>1</td>\n",
       "    </tr>\n",
       "    <tr>\n",
       "      <th>7</th>\n",
       "      <td>0.150679</td>\n",
       "      <td>1</td>\n",
       "    </tr>\n",
       "  </tbody>\n",
       "</table>\n",
       "</div>"
      ],
      "text/plain": [
       "          x  y\n",
       "5  0.311063  0\n",
       "7  0.150679  1\n",
       "7  0.150679  1"
      ]
     },
     "execution_count": 48,
     "metadata": {},
     "output_type": "execute_result"
    }
   ],
   "source": [
    "df_agg = pd.DataFrame({'x': X, 'n_success': Y, 'n_trials': N})\n",
    "df_agg['n_fail'] = df_agg['n_trials'] - df_agg['n_success']\n",
    "# repeat so each row = 1 trial\n",
    "df_success = df_agg.loc[np.repeat(df_agg.index, df_agg['n_success']), ['x']]\n",
    "df_success['y'] = 1\n",
    "assert len(df_success) == df_agg['n_success'].sum()\n",
    "df_failure = df_agg.loc[np.repeat(df_agg.index, df_agg['n_fail']), ['x']]\n",
    "df_failure['y'] = 0\n",
    "assert len(df_failure) == df_agg['n_fail'].sum()\n",
    "df = pd.concat([df_success, df_failure], axis='rows')\n",
    "assert len(df) == np.sum(N)\n",
    "df.sample(n=3)"
   ]
  },
  {
   "cell_type": "code",
   "execution_count": 49,
   "metadata": {},
   "outputs": [
    {
     "name": "stdout",
     "output_type": "stream",
     "text": [
      "Optimization terminated successfully.\n",
      "         Current function value: 0.644577\n",
      "         Iterations 5\n"
     ]
    },
    {
     "data": {
      "text/html": [
       "<table class=\"simpletable\">\n",
       "<caption>Logit Regression Results</caption>\n",
       "<tr>\n",
       "  <th>Dep. Variable:</th>         <td>y</td>        <th>  No. Observations:  </th>  <td>    48</td> \n",
       "</tr>\n",
       "<tr>\n",
       "  <th>Model:</th>               <td>Logit</td>      <th>  Df Residuals:      </th>  <td>    46</td> \n",
       "</tr>\n",
       "<tr>\n",
       "  <th>Method:</th>               <td>MLE</td>       <th>  Df Model:          </th>  <td>     1</td> \n",
       "</tr>\n",
       "<tr>\n",
       "  <th>Date:</th>          <td>Sun, 27 Jan 2019</td> <th>  Pseudo R-squ.:     </th>  <td>0.03979</td>\n",
       "</tr>\n",
       "<tr>\n",
       "  <th>Time:</th>              <td>22:32:44</td>     <th>  Log-Likelihood:    </th> <td> -30.940</td>\n",
       "</tr>\n",
       "<tr>\n",
       "  <th>converged:</th>           <td>True</td>       <th>  LL-Null:           </th> <td> -32.222</td>\n",
       "</tr>\n",
       "<tr>\n",
       "  <th> </th>                      <td> </td>        <th>  LLR p-value:       </th>  <td>0.1093</td> \n",
       "</tr>\n",
       "</table>\n",
       "<table class=\"simpletable\">\n",
       "<tr>\n",
       "      <td></td>         <th>coef</th>     <th>std err</th>      <th>z</th>      <th>P>|z|</th>  <th>[0.025</th>    <th>0.975]</th>  \n",
       "</tr>\n",
       "<tr>\n",
       "  <th>Intercept</th> <td>    0.0525</td> <td>    0.416</td> <td>    0.126</td> <td> 0.900</td> <td>   -0.764</td> <td>    0.869</td>\n",
       "</tr>\n",
       "<tr>\n",
       "  <th>x</th>         <td>   -1.4423</td> <td>    0.930</td> <td>   -1.550</td> <td> 0.121</td> <td>   -3.266</td> <td>    0.381</td>\n",
       "</tr>\n",
       "</table>"
      ],
      "text/plain": [
       "<class 'statsmodels.iolib.summary.Summary'>\n",
       "\"\"\"\n",
       "                           Logit Regression Results                           \n",
       "==============================================================================\n",
       "Dep. Variable:                      y   No. Observations:                   48\n",
       "Model:                          Logit   Df Residuals:                       46\n",
       "Method:                           MLE   Df Model:                            1\n",
       "Date:                Sun, 27 Jan 2019   Pseudo R-squ.:                 0.03979\n",
       "Time:                        22:32:44   Log-Likelihood:                -30.940\n",
       "converged:                       True   LL-Null:                       -32.222\n",
       "                                        LLR p-value:                    0.1093\n",
       "==============================================================================\n",
       "                 coef    std err          z      P>|z|      [0.025      0.975]\n",
       "------------------------------------------------------------------------------\n",
       "Intercept      0.0525      0.416      0.126      0.900      -0.764       0.869\n",
       "x             -1.4423      0.930     -1.550      0.121      -3.266       0.381\n",
       "==============================================================================\n",
       "\"\"\""
      ]
     },
     "execution_count": 49,
     "metadata": {},
     "output_type": "execute_result"
    }
   ],
   "source": [
    "smf.logit(\"y ~ x\", data=df).fit().summary()"
   ]
  },
  {
   "cell_type": "markdown",
   "metadata": {},
   "source": [
    "This perfectly matches the MLE estimate above"
   ]
  },
  {
   "cell_type": "code",
   "execution_count": 50,
   "metadata": {},
   "outputs": [
    {
     "data": {
      "text/plain": [
       "array([ 0.05250586, -1.44227084])"
      ]
     },
     "execution_count": 50,
     "metadata": {},
     "output_type": "execute_result"
    }
   ],
   "source": [
    "mle.x"
   ]
  },
  {
   "cell_type": "code",
   "execution_count": 47,
   "metadata": {},
   "outputs": [
    {
     "data": {
      "text/plain": [
       "(0.065686, -0.24649)"
      ]
     },
     "execution_count": 47,
     "metadata": {},
     "output_type": "execute_result"
    }
   ],
   "source": [
    "alpha, beta"
   ]
  },
  {
   "cell_type": "code",
   "execution_count": null,
   "metadata": {},
   "outputs": [],
   "source": []
  }
 ],
 "metadata": {
  "kernelspec": {
   "display_name": "Python 3",
   "language": "python",
   "name": "python3"
  },
  "language_info": {
   "codemirror_mode": {
    "name": "ipython",
    "version": 3
   },
   "file_extension": ".py",
   "mimetype": "text/x-python",
   "name": "python",
   "nbconvert_exporter": "python",
   "pygments_lexer": "ipython3",
   "version": "3.6.6"
  }
 },
 "nbformat": 4,
 "nbformat_minor": 2
}
